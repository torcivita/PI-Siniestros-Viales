{
 "cells": [
  {
   "cell_type": "code",
   "execution_count": 80,
   "metadata": {},
   "outputs": [],
   "source": [
    "import numpy as np\n",
    "import pandas as pd\n",
    "import matplotlib.pyplot as plt\n",
    "import seaborn as sns\n",
    "from datetime import timedelta"
   ]
  },
  {
   "cell_type": "code",
   "execution_count": 129,
   "metadata": {},
   "outputs": [],
   "source": [
    "df_homicidios = pd.read_excel('Datos de trabajo\\homicidios_merge.xlsx')\n",
    "df_poblacion = pd.read_excel('Datasets\\poblacion.xlsx', sheet_name=\"DATOS\")\n"
   ]
  },
  {
   "cell_type": "markdown",
   "metadata": {},
   "source": [
    "## KPI 1\n",
    "Reducir en un 10% la tasa de homicidios en siniestros viales de los últimos seis meses, en CABA, en comparación con la tasa de homicidios en siniestros viales del semestre anterior.\n",
    "\n",
    "Definimos a la tasa de homicidios en siniestros viales como el número de víctimas fatales en accidentes de tránsito por cada 100,000 habitantes en un área geográfica durante un período de tiempo específico. Su fórmula es: (Número de homicidios en siniestros viales / Población total) * 100,000"
   ]
  },
  {
   "cell_type": "code",
   "execution_count": 83,
   "metadata": {},
   "outputs": [
    {
     "name": "stdout",
     "output_type": "stream",
     "text": [
      "     AÑO  SEMESTRE  N_VICTIMAS\n",
      "0   2016         1          61\n",
      "1   2016         2          64\n",
      "2   2017         1          63\n",
      "3   2017         2          68\n",
      "4   2018         1          71\n",
      "5   2018         2          69\n",
      "6   2019         1          53\n",
      "7   2019         2          44\n",
      "8   2020         1          27\n",
      "9   2020         2          50\n",
      "10  2021         1          48\n",
      "11  2021         2          36\n"
     ]
    }
   ],
   "source": [
    "def contar_victimas_por_semestre(dataframe_homicidios):\n",
    "    \n",
    "    # Aseguramos de que la columna 'FECHA' esté en formato datetime\n",
    "    dataframe_homicidios['FECHA'] = pd.to_datetime(dataframe_homicidios['FECHA'])\n",
    "    \n",
    "    # Creamos una nueva columna llamada 'SEMESTRE' que contiene el número de semestre\n",
    "    dataframe_homicidios['SEMESTRE'] = (dataframe_homicidios['FECHA'].dt.month - 1) // 6 + 1\n",
    "    \n",
    "    # Creamos una nueva columna llamada 'AÑO' que contiene el año\n",
    "    dataframe_homicidios['AÑO'] = dataframe_homicidios['FECHA'].dt.year\n",
    "    \n",
    "    # Agrupamos por semestre y año, y sumamos las víctimas\n",
    "    cantidad_homicidios = dataframe_homicidios.groupby(['AÑO', 'SEMESTRE'])['N_VICTIMAS'].sum().reset_index()\n",
    "    \n",
    "    return cantidad_homicidios\n",
    "\n",
    "# Llamamos a la función con el DataFrame de homicidios\n",
    "cantidad_homicidios = contar_victimas_por_semestre(df_homicidios)\n",
    "\n",
    "# Muestra el nuevo DataFrame 'cantidad_homicidios'\n",
    "print(cantidad_homicidios)"
   ]
  },
  {
   "cell_type": "code",
   "execution_count": 84,
   "metadata": {},
   "outputs": [
    {
     "name": "stdout",
     "output_type": "stream",
     "text": [
      "   AAAA    TOTAL\n",
      "0  2016  3059122\n",
      "1  2017  3063728\n",
      "2  2018  3068043\n",
      "3  2019  3072029\n",
      "4  2020  3075646\n",
      "5  2021  3078836\n"
     ]
    }
   ],
   "source": [
    "def contar_poblacion_por_anio(dataframe_poblacion):\n",
    "    \n",
    "    # Agrupamos por semestre y año, y sumamos las víctimas\n",
    "    cantidad_poblacion = dataframe_poblacion.groupby(['AAAA'])['TOTAL'].sum().reset_index()\n",
    "    \n",
    "    return cantidad_poblacion\n",
    "\n",
    "# Llamamos a la función con el DataFrame de 'df_poblacion'\n",
    "cantidad_poblacion = contar_poblacion_por_anio(df_poblacion)\n",
    "\n",
    "print(cantidad_poblacion)"
   ]
  },
  {
   "cell_type": "code",
   "execution_count": 85,
   "metadata": {},
   "outputs": [
    {
     "name": "stdout",
     "output_type": "stream",
     "text": [
      "     AÑO  SEMESTRE  N_VICTIMAS    TOTAL\n",
      "0   2016         1          61  3059122\n",
      "1   2016         2          64  3059122\n",
      "2   2017         1          63  3063728\n",
      "3   2017         2          68  3063728\n",
      "4   2018         1          71  3068043\n",
      "5   2018         2          69  3068043\n",
      "6   2019         1          53  3072029\n",
      "7   2019         2          44  3072029\n",
      "8   2020         1          27  3075646\n",
      "9   2020         2          50  3075646\n",
      "10  2021         1          48  3078836\n",
      "11  2021         2          36  3078836\n"
     ]
    }
   ],
   "source": [
    "# Fusionamos los DataFrames a través de la columna 'AÑO' y 'AAAA'\n",
    "resultado = pd.merge(cantidad_homicidios, cantidad_poblacion, left_on='AÑO', right_on='AAAA')\n",
    "\n",
    "# Eliminamos la columna redundante 'AAAA'\n",
    "resultado.drop('AAAA', axis=1, inplace=True)\n",
    "\n",
    "print(resultado)"
   ]
  },
  {
   "cell_type": "code",
   "execution_count": 86,
   "metadata": {},
   "outputs": [
    {
     "name": "stdout",
     "output_type": "stream",
     "text": [
      "     AÑO  SEMESTRE  N_VICTIMAS  POBLACION\n",
      "0   2016         1          61    3059122\n",
      "1   2016         2          64    3059122\n",
      "2   2017         1          63    3063728\n",
      "3   2017         2          68    3063728\n",
      "4   2018         1          71    3068043\n",
      "5   2018         2          69    3068043\n",
      "6   2019         1          53    3072029\n",
      "7   2019         2          44    3072029\n",
      "8   2020         1          27    3075646\n",
      "9   2020         2          50    3075646\n",
      "10  2021         1          48    3078836\n",
      "11  2021         2          36    3078836\n"
     ]
    }
   ],
   "source": [
    "# Cambiamos el nombre de la columna 'TOTAL'\n",
    "resultado = resultado.rename(columns={'TOTAL': 'POBLACION'})\n",
    "print(resultado)"
   ]
  },
  {
   "cell_type": "code",
   "execution_count": 87,
   "metadata": {},
   "outputs": [
    {
     "name": "stdout",
     "output_type": "stream",
     "text": [
      "     AÑO  SEMESTRE  N_VICTIMAS  POBLACION  TASA_HOMICIDIOS\n",
      "0   2016         1          61    3059122         1.994036\n",
      "1   2016         2          64    3059122         2.092104\n",
      "2   2017         1          63    3063728         2.056318\n",
      "3   2017         2          68    3063728         2.219518\n",
      "4   2018         1          71    3068043         2.314179\n",
      "5   2018         2          69    3068043         2.248991\n",
      "6   2019         1          53    3072029         1.725244\n",
      "7   2019         2          44    3072029         1.432278\n",
      "8   2020         1          27    3075646         0.877864\n",
      "9   2020         2          50    3075646         1.625675\n",
      "10  2021         1          48    3078836         1.559031\n",
      "11  2021         2          36    3078836         1.169273\n"
     ]
    }
   ],
   "source": [
    "\n",
    "# Agregamos una nueva columna llamada 'TASA_HOMICIDIOS' con el resultado de la fórmula\n",
    "resultado['TASA_HOMICIDIOS'] = (resultado['N_VICTIMAS'] / resultado['POBLACION']) * 100000\n",
    "\n",
    "print(resultado)\n"
   ]
  },
  {
   "cell_type": "code",
   "execution_count": 88,
   "metadata": {},
   "outputs": [
    {
     "name": "stdout",
     "output_type": "stream",
     "text": [
      "     AÑO  SEMESTRE  N_VICTIMAS  POBLACION  TASA_HOMICIDIOS  TASA_OBJETIVO\n",
      "0   2016         1          61    3059122         1.994036            NaN\n",
      "1   2016         2          64    3059122         2.092104       1.794633\n",
      "2   2017         1          63    3063728         2.056318       1.882893\n",
      "3   2017         2          68    3063728         2.219518       1.850686\n",
      "4   2018         1          71    3068043         2.314179       1.997566\n",
      "5   2018         2          69    3068043         2.248991       2.082761\n",
      "6   2019         1          53    3072029         1.725244       2.024092\n",
      "7   2019         2          44    3072029         1.432278       1.552720\n",
      "8   2020         1          27    3075646         0.877864       1.289050\n",
      "9   2020         2          50    3075646         1.625675       0.790078\n",
      "10  2021         1          48    3078836         1.559031       1.463107\n",
      "11  2021         2          36    3078836         1.169273       1.403128\n"
     ]
    }
   ],
   "source": [
    "# El objetivo es reducir en un 10% la tasa de homicidios del semestre anterior\n",
    "# Agregamos una nueva columna llamada 'TASA_OBJETIVO' con el 90% del resultado de 'TASA_HOMICIDIOS' de la fila anterior\n",
    "resultado['TASA_OBJETIVO'] = resultado['TASA_HOMICIDIOS'].shift(1) * 0.9\n",
    "\n",
    "print(resultado)\n"
   ]
  },
  {
   "cell_type": "code",
   "execution_count": 89,
   "metadata": {},
   "outputs": [
    {
     "name": "stdout",
     "output_type": "stream",
     "text": [
      "     AÑO  SEMESTRE  N_VICTIMAS  POBLACION  TASA_HOMICIDIOS  TASA_OBJETIVO  \\\n",
      "0   2016         1          61    3059122         1.994036            NaN   \n",
      "1   2016         2          64    3059122         2.092104       1.794633   \n",
      "2   2017         1          63    3063728         2.056318       1.882893   \n",
      "3   2017         2          68    3063728         2.219518       1.850686   \n",
      "4   2018         1          71    3068043         2.314179       1.997566   \n",
      "5   2018         2          69    3068043         2.248991       2.082761   \n",
      "6   2019         1          53    3072029         1.725244       2.024092   \n",
      "7   2019         2          44    3072029         1.432278       1.552720   \n",
      "8   2020         1          27    3075646         0.877864       1.289050   \n",
      "9   2020         2          50    3075646         1.625675       0.790078   \n",
      "10  2021         1          48    3078836         1.559031       1.463107   \n",
      "11  2021         2          36    3078836         1.169273       1.403128   \n",
      "\n",
      "    DIFERENCIA  \n",
      "0          NaN  \n",
      "1     0.297471  \n",
      "2     0.173425  \n",
      "3     0.368832  \n",
      "4     0.316612  \n",
      "5     0.166230  \n",
      "6    -0.298847  \n",
      "7    -0.120442  \n",
      "8    -0.411186  \n",
      "9     0.835597  \n",
      "10    0.095923  \n",
      "11   -0.233855  \n"
     ]
    }
   ],
   "source": [
    "# Agregamos una nueva columna llamada 'DIFERENCIA' con la diferencia entre 'TASA_HOMICIDIOS' y 'TASA_OBJETIVO'\n",
    "resultado['DIFERENCIA'] = (resultado['TASA_HOMICIDIOS'] - resultado['TASA_OBJETIVO'])\n",
    "\n",
    "print(resultado)"
   ]
  },
  {
   "cell_type": "code",
   "execution_count": 91,
   "metadata": {},
   "outputs": [
    {
     "data": {
      "text/html": [
       "<div>\n",
       "<style scoped>\n",
       "    .dataframe tbody tr th:only-of-type {\n",
       "        vertical-align: middle;\n",
       "    }\n",
       "\n",
       "    .dataframe tbody tr th {\n",
       "        vertical-align: top;\n",
       "    }\n",
       "\n",
       "    .dataframe thead th {\n",
       "        text-align: right;\n",
       "    }\n",
       "</style>\n",
       "<table border=\"1\" class=\"dataframe\">\n",
       "  <thead>\n",
       "    <tr style=\"text-align: right;\">\n",
       "      <th></th>\n",
       "      <th>AÑO</th>\n",
       "      <th>SEMESTRE</th>\n",
       "      <th>N_VICTIMAS</th>\n",
       "      <th>POBLACION</th>\n",
       "      <th>TASA_HOMICIDIOS</th>\n",
       "      <th>TASA_OBJETIVO</th>\n",
       "      <th>DIFERENCIA</th>\n",
       "      <th>LOGRADO</th>\n",
       "    </tr>\n",
       "  </thead>\n",
       "  <tbody>\n",
       "    <tr>\n",
       "      <th>0</th>\n",
       "      <td>2016</td>\n",
       "      <td>1</td>\n",
       "      <td>61</td>\n",
       "      <td>3059122</td>\n",
       "      <td>1.994036</td>\n",
       "      <td>NaN</td>\n",
       "      <td>NaN</td>\n",
       "      <td>0</td>\n",
       "    </tr>\n",
       "    <tr>\n",
       "      <th>1</th>\n",
       "      <td>2016</td>\n",
       "      <td>2</td>\n",
       "      <td>64</td>\n",
       "      <td>3059122</td>\n",
       "      <td>2.092104</td>\n",
       "      <td>1.794633</td>\n",
       "      <td>0.297471</td>\n",
       "      <td>0</td>\n",
       "    </tr>\n",
       "    <tr>\n",
       "      <th>2</th>\n",
       "      <td>2017</td>\n",
       "      <td>1</td>\n",
       "      <td>63</td>\n",
       "      <td>3063728</td>\n",
       "      <td>2.056318</td>\n",
       "      <td>1.882893</td>\n",
       "      <td>0.173425</td>\n",
       "      <td>0</td>\n",
       "    </tr>\n",
       "    <tr>\n",
       "      <th>3</th>\n",
       "      <td>2017</td>\n",
       "      <td>2</td>\n",
       "      <td>68</td>\n",
       "      <td>3063728</td>\n",
       "      <td>2.219518</td>\n",
       "      <td>1.850686</td>\n",
       "      <td>0.368832</td>\n",
       "      <td>0</td>\n",
       "    </tr>\n",
       "    <tr>\n",
       "      <th>4</th>\n",
       "      <td>2018</td>\n",
       "      <td>1</td>\n",
       "      <td>71</td>\n",
       "      <td>3068043</td>\n",
       "      <td>2.314179</td>\n",
       "      <td>1.997566</td>\n",
       "      <td>0.316612</td>\n",
       "      <td>0</td>\n",
       "    </tr>\n",
       "    <tr>\n",
       "      <th>5</th>\n",
       "      <td>2018</td>\n",
       "      <td>2</td>\n",
       "      <td>69</td>\n",
       "      <td>3068043</td>\n",
       "      <td>2.248991</td>\n",
       "      <td>2.082761</td>\n",
       "      <td>0.166230</td>\n",
       "      <td>0</td>\n",
       "    </tr>\n",
       "    <tr>\n",
       "      <th>6</th>\n",
       "      <td>2019</td>\n",
       "      <td>1</td>\n",
       "      <td>53</td>\n",
       "      <td>3072029</td>\n",
       "      <td>1.725244</td>\n",
       "      <td>2.024092</td>\n",
       "      <td>-0.298847</td>\n",
       "      <td>1</td>\n",
       "    </tr>\n",
       "    <tr>\n",
       "      <th>7</th>\n",
       "      <td>2019</td>\n",
       "      <td>2</td>\n",
       "      <td>44</td>\n",
       "      <td>3072029</td>\n",
       "      <td>1.432278</td>\n",
       "      <td>1.552720</td>\n",
       "      <td>-0.120442</td>\n",
       "      <td>1</td>\n",
       "    </tr>\n",
       "    <tr>\n",
       "      <th>8</th>\n",
       "      <td>2020</td>\n",
       "      <td>1</td>\n",
       "      <td>27</td>\n",
       "      <td>3075646</td>\n",
       "      <td>0.877864</td>\n",
       "      <td>1.289050</td>\n",
       "      <td>-0.411186</td>\n",
       "      <td>1</td>\n",
       "    </tr>\n",
       "    <tr>\n",
       "      <th>9</th>\n",
       "      <td>2020</td>\n",
       "      <td>2</td>\n",
       "      <td>50</td>\n",
       "      <td>3075646</td>\n",
       "      <td>1.625675</td>\n",
       "      <td>0.790078</td>\n",
       "      <td>0.835597</td>\n",
       "      <td>0</td>\n",
       "    </tr>\n",
       "    <tr>\n",
       "      <th>10</th>\n",
       "      <td>2021</td>\n",
       "      <td>1</td>\n",
       "      <td>48</td>\n",
       "      <td>3078836</td>\n",
       "      <td>1.559031</td>\n",
       "      <td>1.463107</td>\n",
       "      <td>0.095923</td>\n",
       "      <td>0</td>\n",
       "    </tr>\n",
       "    <tr>\n",
       "      <th>11</th>\n",
       "      <td>2021</td>\n",
       "      <td>2</td>\n",
       "      <td>36</td>\n",
       "      <td>3078836</td>\n",
       "      <td>1.169273</td>\n",
       "      <td>1.403128</td>\n",
       "      <td>-0.233855</td>\n",
       "      <td>1</td>\n",
       "    </tr>\n",
       "  </tbody>\n",
       "</table>\n",
       "</div>"
      ],
      "text/plain": [
       "     AÑO  SEMESTRE  N_VICTIMAS  POBLACION  TASA_HOMICIDIOS  TASA_OBJETIVO  \\\n",
       "0   2016         1          61    3059122         1.994036            NaN   \n",
       "1   2016         2          64    3059122         2.092104       1.794633   \n",
       "2   2017         1          63    3063728         2.056318       1.882893   \n",
       "3   2017         2          68    3063728         2.219518       1.850686   \n",
       "4   2018         1          71    3068043         2.314179       1.997566   \n",
       "5   2018         2          69    3068043         2.248991       2.082761   \n",
       "6   2019         1          53    3072029         1.725244       2.024092   \n",
       "7   2019         2          44    3072029         1.432278       1.552720   \n",
       "8   2020         1          27    3075646         0.877864       1.289050   \n",
       "9   2020         2          50    3075646         1.625675       0.790078   \n",
       "10  2021         1          48    3078836         1.559031       1.463107   \n",
       "11  2021         2          36    3078836         1.169273       1.403128   \n",
       "\n",
       "    DIFERENCIA  LOGRADO  \n",
       "0          NaN        0  \n",
       "1     0.297471        0  \n",
       "2     0.173425        0  \n",
       "3     0.368832        0  \n",
       "4     0.316612        0  \n",
       "5     0.166230        0  \n",
       "6    -0.298847        1  \n",
       "7    -0.120442        1  \n",
       "8    -0.411186        1  \n",
       "9     0.835597        0  \n",
       "10    0.095923        0  \n",
       "11   -0.233855        1  "
      ]
     },
     "execution_count": 91,
     "metadata": {},
     "output_type": "execute_result"
    }
   ],
   "source": [
    "# Si el valor en 'DIFERENCIA' es positivo, significa que 'TASA_HOMICIDIOS' <= 'TASA_OBJETIVO' y por lo tanto, la tasa de homicidios se redujo al menos un 10%, por lo tanto el objetivo está cumplido\n",
    "# Agregamos una nueva columna llamada 'LOGRADO' que evalúa si se logró (1) o no se logró (0) el objetivo de reducción de la tasa de homicidios\n",
    "resultado['LOGRADO'] = resultado['DIFERENCIA'].apply(lambda x: 1 if x <= 0 else 0)\n",
    "\n",
    "resultado\n"
   ]
  },
  {
   "cell_type": "code",
   "execution_count": 92,
   "metadata": {},
   "outputs": [],
   "source": [
    "# Exportamos el DataFrame como archivo de Excel\n",
    "resultado.to_excel('Datos de trabajo\\\\KPI_1.xlsx', index=False)"
   ]
  },
  {
   "cell_type": "markdown",
   "metadata": {},
   "source": [
    "## KPI 2\n",
    "Reducir en un 7% la cantidad de accidentes mortales de motociclistas en el último año, en CABA, respecto al año anterior.\n",
    "\n",
    "Definimos a la cantidad de accidentes mortales de motociclistas en siniestros viales como el número absoluto de accidentes fatales en los que estuvieron involucradas víctimas que viajaban en moto en un determinado periodo temporal. Su fórmula para medir la evolución de los accidentes mortales con víctimas en moto es: (Número de accidentes mortales con víctimas en moto en el año actual - Número de accidentes mortales con víctimas en moto en el año anterior) / (Número de accidentes mortales con víctimas en moto en el año anterior)\n"
   ]
  },
  {
   "cell_type": "code",
   "execution_count": 108,
   "metadata": {},
   "outputs": [
    {
     "name": "stdout",
     "output_type": "stream",
     "text": [
      "     AÑO      VICTIMA  N_VICTIMAS\n",
      "0   2016         AUTO          13\n",
      "1   2016    BICICLETA           4\n",
      "2   2016       CARGAS           1\n",
      "3   2016         MOTO          58\n",
      "4   2016        MOVIL           1\n",
      "5   2016    PASAJEROS           1\n",
      "6   2016       PEATON          44\n",
      "7   2017         AUTO          32\n",
      "8   2017    BICICLETA           3\n",
      "9   2017       CARGAS           2\n",
      "10  2017         MOTO          44\n",
      "11  2017  OBJETO FIJO           4\n",
      "12  2017       PEATON          44\n",
      "13  2018         AUTO          13\n",
      "14  2018    BICICLETA           3\n",
      "15  2018         MOTO          57\n",
      "16  2018        MOVIL           4\n",
      "17  2018    PASAJEROS           1\n",
      "18  2018       PEATON          62\n",
      "19  2019         AUTO           9\n",
      "20  2019    BICICLETA           7\n",
      "21  2019         MOTO          45\n",
      "22  2019    PASAJEROS           1\n",
      "23  2019       PEATON          35\n",
      "24  2020         AUTO          13\n",
      "25  2020    BICICLETA           5\n",
      "26  2020         MOTO          27\n",
      "27  2020       PEATON          32\n",
      "28  2021         AUTO          11\n",
      "29  2021    BICICLETA           5\n",
      "30  2021         MOTO          38\n",
      "31  2021    PASAJEROS           1\n",
      "32  2021       PEATON          29\n"
     ]
    }
   ],
   "source": [
    "def contar_victimas_moto(dataframe_homicidios):\n",
    "    # Agrupamos por vehículo y año, y sumamos las víctimas\n",
    "    homicidios_vehiculo = dataframe_homicidios.groupby(['AÑO', 'VICTIMA'])['N_VICTIMAS'].sum().reset_index()\n",
    "    \n",
    "    return homicidios_vehiculo\n",
    "\n",
    "# Llamamos a la función con el DataFrame de homicidios\n",
    "homicidios_vehiculo = contar_victimas_moto(df_homicidios)\n",
    "\n",
    "print(homicidios_vehiculo)"
   ]
  },
  {
   "cell_type": "code",
   "execution_count": 120,
   "metadata": {},
   "outputs": [
    {
     "name": "stdout",
     "output_type": "stream",
     "text": [
      "    AÑO VICTIMA  N_VICTIMAS\n",
      "0  2016    MOTO          58\n",
      "1  2017    MOTO          44\n",
      "2  2018    MOTO          57\n",
      "3  2019    MOTO          45\n",
      "4  2020    MOTO          27\n",
      "5  2021    MOTO          38\n"
     ]
    }
   ],
   "source": [
    "# Filtramos las filas donde 'VICTIMA' es igual a 'MOTO'\n",
    "homicidios_moto = homicidios_vehiculo[homicidios_vehiculo['VICTIMA'] == 'MOTO']\n",
    "\n",
    "# Reindexamos\n",
    "homicidios_moto = homicidios_moto.reset_index(drop=True)\n",
    "\n",
    "print(homicidios_moto)"
   ]
  },
  {
   "cell_type": "code",
   "execution_count": 123,
   "metadata": {},
   "outputs": [
    {
     "name": "stdout",
     "output_type": "stream",
     "text": [
      "    AÑO VICTIMA  N_VICTIMAS  OBJETIVO  TASA_VARIACIÓN\n",
      "0  2016    MOTO          58     -0.07             NaN\n",
      "1  2017    MOTO          44     -0.07       -0.241379\n",
      "2  2018    MOTO          57     -0.07        0.295455\n",
      "3  2019    MOTO          45     -0.07       -0.210526\n",
      "4  2020    MOTO          27     -0.07       -0.400000\n",
      "5  2021    MOTO          38     -0.07        0.407407\n"
     ]
    }
   ],
   "source": [
    "# El objetivo es reducir en un 7% la cantidad de victimas fatales en moto del año anterior\n",
    "# Agregamos una nueva columna llamada 'OBJETIVO' donde determinamos que el objetivo es -0.07 (un 7% menos).\n",
    "homicidios_moto['OBJETIVO'] = -0.07\n",
    "\n",
    "# Calculamos la tasa de variación de victimas fatales en moto\n",
    "homicidios_moto['TASA_VARIACIÓN'] = (homicidios_moto['N_VICTIMAS'] - homicidios_moto['N_VICTIMAS'].shift(1)) / homicidios_moto['N_VICTIMAS'].shift(1)\n",
    "\n",
    "print(homicidios_moto)"
   ]
  },
  {
   "cell_type": "code",
   "execution_count": 124,
   "metadata": {},
   "outputs": [
    {
     "name": "stdout",
     "output_type": "stream",
     "text": [
      "    AÑO VICTIMA  N_VICTIMAS  OBJETIVO  TASA_VARIACIÓN  LOGRADO\n",
      "0  2016    MOTO          58     -0.07             NaN        0\n",
      "1  2017    MOTO          44     -0.07       -0.241379        1\n",
      "2  2018    MOTO          57     -0.07        0.295455        0\n",
      "3  2019    MOTO          45     -0.07       -0.210526        1\n",
      "4  2020    MOTO          27     -0.07       -0.400000        1\n",
      "5  2021    MOTO          38     -0.07        0.407407        0\n"
     ]
    }
   ],
   "source": [
    "# Si el valor en 'TASA_VARIACIÓN' es menor o igual -0,07, significa que la cantidad de victimas en moto se redujo al menos un 7%, por lo tanto el objetivo está cumplido\n",
    "# Agregamos una nueva columna llamada 'LOGRADO' que evalúa si se logró (1) o no se logró (0) el objetivo de reducción de la tasa de homicidios\n",
    "homicidios_moto['LOGRADO'] = homicidios_moto['TASA_VARIACIÓN'].apply(lambda x: 1 if x <= -0.07 else 0)\n",
    "\n",
    "print(homicidios_moto)"
   ]
  },
  {
   "cell_type": "code",
   "execution_count": 125,
   "metadata": {},
   "outputs": [],
   "source": [
    "# Exportamos el DataFrame como archivo de Excel\n",
    "homicidios_moto.to_excel('Datos de trabajo\\\\KPI_2.xlsx', index=False)"
   ]
  },
  {
   "cell_type": "markdown",
   "metadata": {},
   "source": [
    "## KPI 3\n",
    "Reducir en un 5% la cantidad de siniestros fatales ocacionados en avenidas en el último año, en CABA, respecto del año anterior.\n",
    "\n",
    "Definimos a la cantidad de accidentes mortales de siniestros viales en avenidas como el número absoluto de accidentes fatales que ocurrieron en una avenida en un determinado periodo temporal. Su fórmula para medir la evolución de los accidentes mortales en avenidas es: (Número de accidentes mortales en avenidas en el año actual - Número de accidentes mortales en avenidas en el año anterior) / (Número de accidentes mortales en avenidas en el año anterior)\n",
    "\n",
    "## KPI 4\n",
    "Reducir en un 5% la cantidad de siniestros fatales ocacionados en calles en el último año, en CABA, respecto del año anterior.\n",
    "\n",
    "Definimos a la cantidad de accidentes mortales de siniestros viales en calles como el número absoluto de accidentes fatales que ocurrieron en una calle en un determinado periodo temporal. Su fórmula para medir la evolución de los accidentes mortales en calles es: (Número de accidentes mortales en calles en el año actual - Número de accidentes mortales en calles en el año anterior) / (Número de accidentes mortales en calles en el año anterior)"
   ]
  },
  {
   "cell_type": "code",
   "execution_count": 140,
   "metadata": {},
   "outputs": [
    {
     "name": "stdout",
     "output_type": "stream",
     "text": [
      "    AAAA TIPO_DE_CALLE  N_VICTIMAS\n",
      "0   2016     AUTOPISTA          13\n",
      "1   2016       AVENIDA          89\n",
      "2   2016         CALLE          15\n",
      "3   2016      GRAL PAZ           8\n",
      "4   2017     AUTOPISTA          10\n",
      "5   2017       AVENIDA          89\n",
      "6   2017         CALLE          24\n",
      "7   2017      GRAL PAZ           8\n",
      "8   2018     AUTOPISTA           7\n",
      "9   2018       AVENIDA          98\n",
      "10  2018         CALLE          28\n",
      "11  2018      GRAL PAZ           7\n",
      "12  2019     AUTOPISTA           6\n",
      "13  2019       AVENIDA          63\n",
      "14  2019         CALLE          25\n",
      "15  2019      GRAL PAZ           3\n",
      "16  2020     AUTOPISTA           4\n",
      "17  2020       AVENIDA          56\n",
      "18  2020         CALLE          12\n",
      "19  2020      GRAL PAZ           5\n",
      "20  2021     AUTOPISTA          13\n",
      "21  2021       AVENIDA          55\n",
      "22  2021         CALLE          11\n",
      "23  2021      GRAL PAZ           5\n"
     ]
    }
   ],
   "source": [
    "def contar_victimas_tipo_calle(dataframe_homicidios):\n",
    "    # Agrupamos por vehículo y año, y sumamos las víctimas\n",
    "    homicidios_tipo_calle = dataframe_homicidios.groupby(['AAAA', 'TIPO_DE_CALLE'])['N_VICTIMAS'].sum().reset_index()\n",
    "    \n",
    "    return homicidios_tipo_calle\n",
    "\n",
    "# Llamamos a la función con el DataFrame de homicidios\n",
    "homicidios_tipo_calle = contar_victimas_tipo_calle(df_homicidios)\n",
    "\n",
    "print(homicidios_tipo_calle)"
   ]
  },
  {
   "cell_type": "code",
   "execution_count": 142,
   "metadata": {},
   "outputs": [
    {
     "name": "stdout",
     "output_type": "stream",
     "text": [
      "   AAAA TIPO_DE_CALLE  N_VICTIMAS\n",
      "0  2016       AVENIDA          89\n",
      "1  2017       AVENIDA          89\n",
      "2  2018       AVENIDA          98\n",
      "3  2019       AVENIDA          63\n",
      "4  2020       AVENIDA          56\n",
      "5  2021       AVENIDA          55\n",
      "   AAAA TIPO_DE_CALLE  N_VICTIMAS\n",
      "0  2016         CALLE          15\n",
      "1  2017         CALLE          24\n",
      "2  2018         CALLE          28\n",
      "3  2019         CALLE          25\n",
      "4  2020         CALLE          12\n",
      "5  2021         CALLE          11\n"
     ]
    }
   ],
   "source": [
    "# Filtramos las filas donde 'TIPO_DE_CALLE' es igual a 'AVENIDA' para el KPI 3 y donde es igual a 'CALLE' para el KPI 4\n",
    "homicidios_avenida = homicidios_tipo_calle[homicidios_tipo_calle['TIPO_DE_CALLE'] == 'AVENIDA']\n",
    "homicidios_calle = homicidios_tipo_calle[homicidios_tipo_calle['TIPO_DE_CALLE'] == 'CALLE']\n",
    "\n",
    "# Reindexamos\n",
    "homicidios_avenida = homicidios_avenida.reset_index(drop=True)\n",
    "homicidios_calle = homicidios_calle.reset_index(drop=True)\n",
    "\n",
    "print(homicidios_avenida)\n",
    "print(homicidios_calle)"
   ]
  },
  {
   "cell_type": "code",
   "execution_count": 143,
   "metadata": {},
   "outputs": [
    {
     "name": "stdout",
     "output_type": "stream",
     "text": [
      "   AAAA TIPO_DE_CALLE  N_VICTIMAS  OBJETIVO  TASA_VARIACIÓN\n",
      "0  2016       AVENIDA          89     -0.05             NaN\n",
      "1  2017       AVENIDA          89     -0.05        0.000000\n",
      "2  2018       AVENIDA          98     -0.05        0.101124\n",
      "3  2019       AVENIDA          63     -0.05       -0.357143\n",
      "4  2020       AVENIDA          56     -0.05       -0.111111\n",
      "5  2021       AVENIDA          55     -0.05       -0.017857\n",
      "   AAAA TIPO_DE_CALLE  N_VICTIMAS  OBJETIVO  TASA_VARIACIÓN\n",
      "0  2016         CALLE          15     -0.05             NaN\n",
      "1  2017         CALLE          24     -0.05        0.600000\n",
      "2  2018         CALLE          28     -0.05        0.166667\n",
      "3  2019         CALLE          25     -0.05       -0.107143\n",
      "4  2020         CALLE          12     -0.05       -0.520000\n",
      "5  2021         CALLE          11     -0.05       -0.083333\n"
     ]
    }
   ],
   "source": [
    "# El objetivo es reducir en un 5% la cantidad de victimas fatales en avenida y en calle respecto del año anterior\n",
    "# Agregamos una nueva columna llamada 'OBJETIVO' donde determinamos que el objetivo es -0.05 (un 5% menos).\n",
    "homicidios_avenida['OBJETIVO'] = -0.05\n",
    "homicidios_calle['OBJETIVO'] = -0.05\n",
    "\n",
    "# Calculamos la tasa de variación de victimas fatales en avenida\n",
    "homicidios_avenida['TASA_VARIACIÓN'] = (homicidios_avenida['N_VICTIMAS'] - homicidios_avenida['N_VICTIMAS'].shift(1)) / homicidios_avenida['N_VICTIMAS'].shift(1)\n",
    "\n",
    "# Calculamos la tasa de variación de victimas fatales en calle\n",
    "homicidios_calle['TASA_VARIACIÓN'] = (homicidios_calle['N_VICTIMAS'] - homicidios_calle['N_VICTIMAS'].shift(1)) / homicidios_calle['N_VICTIMAS'].shift(1)\n",
    "\n",
    "\n",
    "print(homicidios_avenida)\n",
    "print(homicidios_calle)"
   ]
  },
  {
   "cell_type": "code",
   "execution_count": 145,
   "metadata": {},
   "outputs": [
    {
     "name": "stdout",
     "output_type": "stream",
     "text": [
      "   AAAA TIPO_DE_CALLE  N_VICTIMAS  OBJETIVO  TASA_VARIACIÓN  LOGRADO\n",
      "0  2016       AVENIDA          89     -0.05             NaN        0\n",
      "1  2017       AVENIDA          89     -0.05        0.000000        0\n",
      "2  2018       AVENIDA          98     -0.05        0.101124        0\n",
      "3  2019       AVENIDA          63     -0.05       -0.357143        1\n",
      "4  2020       AVENIDA          56     -0.05       -0.111111        1\n",
      "5  2021       AVENIDA          55     -0.05       -0.017857        0\n",
      "   AAAA TIPO_DE_CALLE  N_VICTIMAS  OBJETIVO  TASA_VARIACIÓN  LOGRADO\n",
      "0  2016         CALLE          15     -0.05             NaN        0\n",
      "1  2017         CALLE          24     -0.05        0.600000        0\n",
      "2  2018         CALLE          28     -0.05        0.166667        0\n",
      "3  2019         CALLE          25     -0.05       -0.107143        1\n",
      "4  2020         CALLE          12     -0.05       -0.520000        1\n",
      "5  2021         CALLE          11     -0.05       -0.083333        1\n"
     ]
    }
   ],
   "source": [
    "# Si el valor en 'TASA_VARIACIÓN' es menor o igual -0,05, significa que la cantidad de victimas en el tipo de calle se redujo al menos un 5%, por lo tanto el objetivo está cumplido\n",
    "# Agregamos una nueva columna llamada 'LOGRADO' que evalúa si se logró (1) o no se logró (0) el objetivo de reducción de la tasa de homicidios\n",
    "homicidios_avenida['LOGRADO'] = homicidios_avenida['TASA_VARIACIÓN'].apply(lambda x: 1 if x <= -0.05 else 0)\n",
    "homicidios_calle['LOGRADO'] = homicidios_calle['TASA_VARIACIÓN'].apply(lambda x: 1 if x <= -0.05 else 0)\n",
    "\n",
    "print(homicidios_avenida)\n",
    "print(homicidios_calle)"
   ]
  },
  {
   "cell_type": "code",
   "execution_count": 146,
   "metadata": {},
   "outputs": [],
   "source": [
    "# Exportamos el DataFrame como archivo de Excel\n",
    "homicidios_avenida.to_excel('Datos de trabajo\\\\KPI_3.xlsx', index=False)\n",
    "homicidios_calle.to_excel('Datos de trabajo\\\\KPI_4.xlsx', index=False)"
   ]
  }
 ],
 "metadata": {
  "kernelspec": {
   "display_name": "Python 3",
   "language": "python",
   "name": "python3"
  },
  "language_info": {
   "codemirror_mode": {
    "name": "ipython",
    "version": 3
   },
   "file_extension": ".py",
   "mimetype": "text/x-python",
   "name": "python",
   "nbconvert_exporter": "python",
   "pygments_lexer": "ipython3",
   "version": "3.11.4"
  }
 },
 "nbformat": 4,
 "nbformat_minor": 2
}
